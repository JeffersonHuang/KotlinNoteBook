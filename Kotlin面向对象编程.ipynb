{
 "cells": [
  {
   "cell_type": "markdown",
   "source": [
    "## const 与 val 的区别\n",
    "* const 修饰编译时常量(修饰符)，val 修饰运行时常量(关键字)。\n",
    "* 编译时常量在编译时就会被替换为常量值，而运行时常量则不会。\n",
    "* 编译时常量必须是对象声明或伴生对象的顶级属性或成员。它们必须是String类型或者原生类的包装类，而且不能用于自定getter函数。\n",
    "* 不能在任何函数内赋值，值必须要在编译时可知。\n"
   ],
   "metadata": {
    "collapsed": false
   }
  },
  {
   "cell_type": "code",
   "execution_count": 2,
   "outputs": [
    {
     "name": "stdout",
     "output_type": "stream",
     "text": [
      "const value\r\n",
      "val value\r\n"
     ]
    }
   ],
   "source": [
    "class MyClass {\n",
    "    companion object {\n",
    "        const val CONST_VALUE = \"const value\"\n",
    "        val VAL_VALUE = \"val value\"\n",
    "    }\n",
    "}\n",
    "println(MyClass.CONST_VALUE)\n",
    "println(MyClass.VAL_VALUE)"
   ],
   "metadata": {
    "collapsed": false,
    "ExecuteTime": {
     "end_time": "2023-07-28T14:39:43.629832900Z",
     "start_time": "2023-07-28T14:39:43.348340Z"
    }
   }
  },
  {
   "cell_type": "markdown",
   "source": [
    "## 伴生对象\n",
    "* 伴生对象的成员看起来像其他语言的静态成员，但在运行时他们仍然是真实对象的实例成员。\n",
    "* 伴生对象在编译后会生成一个静态内部类，该类的实例会持有外部类的引用，所以伴生对象可以访问外部类的所有成员。\n",
    "* 伴生对象的成员可以通过类名直接调用，不需要通过对象。"
   ],
   "metadata": {
    "collapsed": false
   }
  },
  {
   "cell_type": "markdown",
   "source": [
    "## 创建自定义getter 和 setter"
   ],
   "metadata": {
    "collapsed": false
   }
  },
  {
   "cell_type": "code",
   "execution_count": 6,
   "outputs": [
    {
     "name": "stdout",
     "output_type": "stream",
     "text": [
      "NAME: JOHN\r\n",
      "20\r\n"
     ]
    }
   ],
   "source": [
    "class Person {\n",
    "    var name: String = \"\"\n",
    "        get() = field.uppercase()\n",
    "        set(value) {\n",
    "            field = \"Name: $value\"\n",
    "        }\n",
    "\n",
    "    var age: Int = 0\n",
    "        get() = field\n",
    "        set(value) {\n",
    "            field = value\n",
    "        }\n",
    "}\n",
    "\n",
    "val person = Person()\n",
    "person.name = \"john\"\n",
    "println(person.name)\n",
    "person.age = 20\n",
    "println(person.age)"
   ],
   "metadata": {
    "collapsed": false,
    "ExecuteTime": {
     "end_time": "2023-07-28T14:42:56.381395700Z",
     "start_time": "2023-07-28T14:42:56.168389700Z"
    }
   }
  },
  {
   "cell_type": "markdown",
   "source": [
    "## 定义数据类\n",
    "* 数据类是用来保存数据的类，编译器会自动为数据类生成一些函数，如：equals()、hashCode()、toString()、copy()。\n",
    "* 数据类必须有一个主构造函数，且主构造函数必须至少有一个参数。\n",
    "* 数据类不能是抽象、开放、密封或者内部的。"
   ],
   "metadata": {
    "collapsed": false
   }
  },
  {
   "cell_type": "code",
   "execution_count": 8,
   "outputs": [
    {
     "name": "stdout",
     "output_type": "stream",
     "text": [
      "User(name=john, age=20)\r\n",
      "User(name=john, age=30)\r\n"
     ]
    }
   ],
   "source": [
    "data class User(val name: String, val age: Int)\n",
    "\n",
    "val user = User(\"john\", 20)\n",
    "var copyUser = user.copy(age = 30)\n",
    "println(user)\n",
    "\n",
    "println(copyUser)"
   ],
   "metadata": {
    "collapsed": false,
    "ExecuteTime": {
     "end_time": "2023-07-28T14:47:38.618199700Z",
     "start_time": "2023-07-28T14:47:38.176315300Z"
    }
   }
  },
  {
   "cell_type": "markdown",
   "source": [
    "* copy 函数仅浅拷贝，如果需要深拷贝，需要自己实现。"
   ],
   "metadata": {
    "collapsed": false
   }
  },
  {
   "cell_type": "code",
   "execution_count": 13,
   "outputs": [
    {
     "name": "stdout",
     "output_type": "stream",
     "text": [
      "true\r\n",
      "false\r\n",
      "true\r\n",
      "true\r\n"
     ]
    }
   ],
   "source": [
    "data class User(val name: String, val age: Int, val address: Address)\n",
    "data class Address(val city: String, val street: String, val number: Int)\n",
    "\n",
    "val item1 = User(\"john\", 20, Address(\"shanghai\", \"nanjing road\", 100))\n",
    "var item2 = item1.copy()\n",
    "\n",
    "println(item1 == item2) // == 比较值，实例中的属性值是否相等。\n",
    "println(item1 === item2) // === 比较引用。\n",
    "println(item1.address == item2.address) // == 比较值\n",
    "println(item1.address === item2.address) // === 比较引用"
   ],
   "metadata": {
    "collapsed": false,
    "ExecuteTime": {
     "end_time": "2023-07-28T14:51:40.794806700Z",
     "start_time": "2023-07-28T14:51:40.454250Z"
    }
   }
  }
 ],
 "metadata": {
  "kernelspec": {
   "display_name": "Kotlin",
   "language": "kotlin",
   "name": "kotlin"
  },
  "language_info": {
   "name": "kotlin",
   "version": "1.8.20",
   "mimetype": "text/x-kotlin",
   "file_extension": ".kt",
   "pygments_lexer": "kotlin",
   "codemirror_mode": "text/x-kotlin",
   "nbconvert_exporter": ""
  },
  "ktnbPluginMetadata": {
   "isAddProjectLibrariesToClasspath": false
  }
 },
 "nbformat": 4,
 "nbformat_minor": 0
}
