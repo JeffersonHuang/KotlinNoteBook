{
 "cells": [
  {
   "cell_type": "code",
   "execution_count": 11,
   "outputs": [
    {
     "name": "stdout",
     "output_type": "stream",
     "text": [
      "name is null\r\n"
     ]
    }
   ],
   "source": [
    "class Person(val name: String?)\n",
    "\n",
    "val p = Person(null)\n",
    "if (p.name != null) {\n",
    "    // 智能转换至非空类型\n",
    "    println(p.name)\n",
    "} else {\n",
    "    println(\"name is null\")\n",
    "}"
   ],
   "metadata": {
    "collapsed": false,
    "ExecuteTime": {
     "end_time": "2023-07-28T13:47:02.885288700Z",
     "start_time": "2023-07-28T13:47:02.652278400Z"
    }
   }
  },
  {
   "cell_type": "markdown",
   "source": [
    "## 安全调用操作符 ?"
   ],
   "metadata": {
    "collapsed": false
   }
  },
  {
   "cell_type": "code",
   "execution_count": 8,
   "outputs": [
    {
     "name": "stdout",
     "output_type": "stream",
     "text": [
      "6"
     ]
    }
   ],
   "source": [
    "var p = Person(\"Kotlin\")\n",
    "val length = p.name?.length\n",
    "print(length)"
   ],
   "metadata": {
    "collapsed": false,
    "ExecuteTime": {
     "end_time": "2023-07-28T13:45:03.957139200Z",
     "start_time": "2023-07-28T13:45:03.560136300Z"
    }
   }
  },
  {
   "cell_type": "markdown",
   "source": [
    "将安全调用操作符号与Elvis操作符?:结合使用，可以在对象为null时提供一个默认值。\n",
    "Elvis操作符?:，右测可以是表达式，所以可以使用return 或 throw；"
   ],
   "metadata": {
    "collapsed": false
   }
  },
  {
   "cell_type": "code",
   "execution_count": 6,
   "outputs": [
    {
     "name": "stdout",
     "output_type": "stream",
     "text": [
      "-1"
     ]
    }
   ],
   "source": [
    "var p = Person(null)\n",
    "var name = p.name?.length ?: -1\n",
    "print(name)"
   ],
   "metadata": {
    "collapsed": false,
    "ExecuteTime": {
     "end_time": "2023-07-28T13:44:15.254776700Z",
     "start_time": "2023-07-28T13:44:14.921542800Z"
    }
   }
  },
  {
   "cell_type": "markdown",
   "source": [
    "## 显示类型转换\n",
    "kotlin 不会自动将原生类型转化为更大的类型，如Int不会自动转化为Long，需要显示转换。"
   ],
   "metadata": {
    "collapsed": false
   }
  },
  {
   "cell_type": "code",
   "execution_count": null,
   "outputs": [],
   "source": [
    "val a: Int = 1\n",
    "val l: Long = a.toLong()"
   ],
   "metadata": {
    "collapsed": false
   }
  },
  {
   "cell_type": "markdown",
   "source": [
    "## 定义一个中缀函数"
   ],
   "metadata": {
    "collapsed": false
   }
  },
  {
   "cell_type": "code",
   "execution_count": 14,
   "outputs": [
    {
     "name": "stdout",
     "output_type": "stream",
     "text": [
      "8\r\n",
      "8.0\r\n",
      "8\r\n"
     ]
    }
   ],
   "source": [
    "import kotlin.math.pow\n",
    "infix fun Int.`**`(x: Int) = toDouble().pow(x).toInt()\n",
    "infix fun Double.`**`(x: Int) = pow(x)\n",
    "infix fun Long.`**`(x: Int) = toDouble().pow(x).toLong()\n",
    "infix fun Float.`**`(x: Int) = toDouble().pow(x).toFloat()\n",
    "\n",
    "println(2 `**` 3)\n",
    "println(2.0 `**` 3)\n",
    "println(2L `**` 3)"
   ],
   "metadata": {
    "collapsed": false,
    "ExecuteTime": {
     "end_time": "2023-07-28T14:14:59.778874700Z",
     "start_time": "2023-07-28T14:14:59.224877800Z"
    }
   }
  },
  {
   "cell_type": "markdown",
   "source": [
    "## 使用移位操作符  shl shr ushr\n",
    "shl: 有符号左移，相当于Java中的<<\n",
    "shr: 有符号右移，相当于Java中的>>\n",
    "ushr: 无符号右移，相当于Java中的>>>"
   ],
   "metadata": {
    "collapsed": false
   }
  },
  {
   "cell_type": "code",
   "execution_count": 19,
   "outputs": [
    {
     "name": "stdout",
     "output_type": "stream",
     "text": [
      "8\r\n",
      "2\r\n",
      "2147483645\r\n"
     ]
    }
   ],
   "source": [
    "val x = (2 shl 2)\n",
    "// 2 的二进制表示为 10，向左移动两位，变为 1000，即 8\n",
    "println(x)\n",
    "\n",
    "var y = (8 shr 2)\n",
    "// 8 的二进制表示为 1000，向右移动两位，变为 10，即 2\n",
    "println(y)\n",
    "\n",
    "var z = (-5 ushr 1)\n",
    "// -5 的二进制表示为 11111111_11111111_11111111_11111011，\n",
    "// 向右移动一位，变为 11111111_11111111_11111111_11111101，即 2147483645\n",
    "println(z)"
   ],
   "metadata": {
    "collapsed": false,
    "ExecuteTime": {
     "end_time": "2023-07-28T14:18:57.668644500Z",
     "start_time": "2023-07-28T14:18:57.479648Z"
    }
   }
  },
  {
   "cell_type": "markdown",
   "source": [
    "## 使用位操作符 and or xor inv\n",
    "and: 位与\n",
    "or: 位或\n",
    "xor: 位异或\n",
    "inv: 位非\n"
   ],
   "metadata": {
    "collapsed": false
   }
  },
  {
   "cell_type": "code",
   "execution_count": 21,
   "outputs": [
    {
     "name": "stdout",
     "output_type": "stream",
     "text": [
      "8\r\n",
      "14\r\n",
      "6\r\n",
      "-11\r\n"
     ]
    }
   ],
   "source": [
    "val x = 0b1010\n",
    "var y = 0b1100\n",
    "println(x and y) // 0b1000\n",
    "println(x or y) // 0b1110\n",
    "println(x xor y) // 0b0110\n",
    "println(x.inv()) // 0b11111111111111111111111111110101"
   ],
   "metadata": {
    "collapsed": false,
    "ExecuteTime": {
     "end_time": "2023-07-28T14:23:14.473400600Z",
     "start_time": "2023-07-28T14:23:14.287394Z"
    }
   }
  },
  {
   "cell_type": "markdown",
   "source": [
    "## 使用 to 函数创建 Pair 和 Triple"
   ],
   "metadata": {
    "collapsed": false
   }
  },
  {
   "cell_type": "code",
   "execution_count": 30,
   "outputs": [
    {
     "name": "stdout",
     "output_type": "stream",
     "text": [
      "(Hello, World)\r\n",
      "{Oracle=Java, JetBrains=Kotlin}\r\n",
      "key = Hello, value = World\r\n"
     ]
    }
   ],
   "source": [
    "val pair = \"Hello\" to \"World\"\n",
    "println(pair)\n",
    "\n",
    "val map = mapOf(\"Oracle\" to \"Java\", \"JetBrains\" to \"Kotlin\")\n",
    "println(map)\n",
    "var (key, value) = pair\n",
    "println(\"key = $key, value = $value\")"
   ],
   "metadata": {
    "collapsed": false,
    "ExecuteTime": {
     "end_time": "2023-07-28T14:27:51.833717300Z",
     "start_time": "2023-07-28T14:27:51.548727500Z"
    }
   }
  },
  {
   "cell_type": "code",
   "execution_count": 32,
   "outputs": [
    {
     "name": "stdout",
     "output_type": "stream",
     "text": [
      "(Hello, World, Kotlin)\r\n",
      "a = Hello, b = World, c = Kotlin\r\n"
     ]
    }
   ],
   "source": [
    "val triple = Triple(\"Hello\", \"World\", \"Kotlin\")\n",
    "println(triple)\n",
    "var (a, b, c) = triple\n",
    "println(\"a = $a, b = $b, c = $c\")"
   ],
   "metadata": {
    "collapsed": false,
    "ExecuteTime": {
     "end_time": "2023-07-28T14:28:26.982337300Z",
     "start_time": "2023-07-28T14:28:26.788331600Z"
    }
   }
  },
  {
   "cell_type": "code",
   "execution_count": null,
   "outputs": [],
   "source": [],
   "metadata": {
    "collapsed": false
   }
  }
 ],
 "metadata": {
  "kernelspec": {
   "display_name": "Kotlin",
   "language": "kotlin",
   "name": "kotlin"
  },
  "language_info": {
   "name": "kotlin",
   "version": "1.8.20",
   "mimetype": "text/x-kotlin",
   "file_extension": ".kt",
   "pygments_lexer": "kotlin",
   "codemirror_mode": "text/x-kotlin",
   "nbconvert_exporter": ""
  },
  "ktnbPluginMetadata": {
   "isAddProjectLibrariesToClasspath": false
  }
 },
 "nbformat": 4,
 "nbformat_minor": 0
}
